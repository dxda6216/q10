{
  "nbformat": 4,
  "nbformat_minor": 0,
  "metadata": {
    "colab": {
      "name": "circadian_period_q10_for_cyano.ipynb",
      "provenance": [],
      "collapsed_sections": [],
      "include_colab_link": true
    },
    "kernelspec": {
      "name": "python3",
      "display_name": "Python 3"
    },
    "language_info": {
      "name": "python"
    }
  },
  "cells": [
    {
      "cell_type": "markdown",
      "metadata": {
        "id": "view-in-github",
        "colab_type": "text"
      },
      "source": [
        "<a href=\"https://colab.research.google.com/github/dxda6216/q10/blob/main/circadian_period_q10_for_cyano.ipynb\" target=\"_parent\"><img src=\"https://colab.research.google.com/assets/colab-badge.svg\" alt=\"Open In Colab\"/></a>"
      ]
    },
    {
      "cell_type": "markdown",
      "source": [
        "# Circadian period Q<sub>10</sub> calculator for cyano\n"
      ],
      "metadata": {
        "id": "5DWMWfNrVHi-"
      }
    },
    {
      "cell_type": "code",
      "source": [
        "### This is a simple script to calculate Q10 values for circadian period\n",
        "### length by using SciPy Optimize non-linear least squares fit on Colab.\n",
        "### Copyright (c) 2022 by dxda6216 (dxda6216 AT gmail DOT com)\n",
        "###\n",
        "#@title Q10 calculator\n",
        "import numpy as np\n",
        "from scipy.optimize import curve_fit\n",
        "from matplotlib import pyplot as plt\n",
        "\n",
        "# Data description (plot title)\n",
        "Data_description = \"Cayno (NOT real data)\" #@param {type:\"string\"}\n",
        "\n",
        "# Temperature data\n",
        "Temperatures = 25.2, 25.2, 25.2, 27.5, 27.5, 27.5, 29.5, 29.5, 29.5, 32.0, 32.0, 32.0, 34.1, 34.1, 34.1, 35.8, 35.8, 35.8 #@param {type:\"raw\"}\n",
        "x = np.array(Temperatures) \n",
        "\n",
        "# Period data\n",
        "Periods =  34.4, 33.1, 32.9, 30.8, 30.1, 29.9, 27.3, 27.1, 27.7, 24.8, 24.3, 24.1, 21.3, 20.8, 20.1, 19.7, 18.5, 18.7 #@param {type:\"raw\"}\n",
        "y = np.array(Periods)\n",
        "\n",
        "# Printing the data\n",
        "print('Temperature = ', x)\n",
        "print('Period = ', y, '\\n')\n",
        "\n",
        "# Displaying Tab-delimited data Yes or No\n",
        "Display_tab_delimited_data = \"No\" #@param [\"No\", \"Yes\"]\n",
        "\n",
        "# Defining an equation for curve fitting\n",
        "# fitting parameters:\n",
        "#     tau30 : period at 30 degree Celsius\n",
        "#     q10 : temperature coefficient (Q10)\n",
        "def func(x, tau30, q10):\n",
        "\treturn tau30 / ( q10 ** ( ( x - 30 ) * 0.1 ) )\n",
        "\n",
        "# Initial values for the fitting parameters\n",
        "p0 = np.array([24.000, 1.000])\n",
        "\n",
        "# Fitting the data to the defined equation\n",
        "popt, pcov = curve_fit(func, x, y, p0)\n",
        "\n",
        "# Printing the results\n",
        "print(u'Tau30 (estimated period length at 30\\u00B0C) =', '{:.3f}'.format(popt[0]), u'\\u00B1', '{:.3f}'.format(pcov[0,0]**0.5))\n",
        "print(u'Q10 (temperature coefficient) =', '{:.3f}'.format(popt[1]), u'\\u00B1', '{:.3f}'.format(pcov[1,1]**0.5))\n",
        "\n",
        "residuals = y - func(x, *popt)\n",
        "ss_residuals = np.sum(residuals**2)\n",
        "ss_total = np.sum((y-np.mean(y))**2)\n",
        "r_squared = 1 - ( ss_residuals / ss_total )\n",
        "print(u'r-squared =', '{:.6f}'.format(r_squared), u'\\n')\n",
        "\n",
        "fig = plt.figure(figsize = (8,6))\n",
        "fcxmin = int( min(x) - ( max(x) - min(x) ) * 0.333 )\n",
        "fcxmax = int( max(x) + ( max(x) - min(x) ) * 0.333 ) + 1\n",
        "fcx = np.linspace(fcxmin, fcxmax, 200)\n",
        "\t\n",
        "plt.plot(x, y, 'o', color ='red', label ='data')\n",
        "fcy = func(fcx, popt[0], popt[1])\t\n",
        "plt.plot(fcx, fcy, '--', color='blue', label ='fit  tau30=%5.3f, Q10=%5.3f' % tuple(popt))\n",
        "plt.title(Data_description)\n",
        "plt.xlabel(u'Temperature (\\u00B0C)')\n",
        "plt.ylabel('Period (hours)')\n",
        "\n",
        "if Display_tab_delimited_data == \"Yes\":\n",
        "\tprint(u'Dataset')\n",
        "\tprint (u'Temp (\\u00B0C)\\tPeriod (hours)')\n",
        "\tycount = 0\n",
        "\tfor xseq in x:\t\n",
        "\t\tprint(str(xseq)+'\\t'+str(y[ycount]))\n",
        "\t\tycount += 1\n",
        "\tprint(u'\\nFitted Curve')\n",
        "\tprint (u'Temp (\\u00B0C)\\tPeriod (hours)')\n",
        "\tfcycount = 0\n",
        "\tfor fcxseq in fcx:\t\n",
        "\t\tprint('{:.3f}'.format(fcxseq)+'\\t'+'{:.3f}'.format(fcy[fcycount]))\n",
        "\t\tfcycount += 1\n",
        "\tprint(u'\\n')\n",
        "\n",
        "plt.legend()\n",
        "plt.show()\n",
        "\n",
        "### End of script"
      ],
      "metadata": {
        "id": "NI2hnwFuVc1z",
        "cellView": "form"
      },
      "execution_count": null,
      "outputs": []
    }
  ]
}