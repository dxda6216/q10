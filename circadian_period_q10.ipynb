{
  "nbformat": 4,
  "nbformat_minor": 0,
  "metadata": {
    "colab": {
      "name": "circadian_period_q10.ipynb",
      "provenance": [],
      "collapsed_sections": [],
      "include_colab_link": true
    },
    "kernelspec": {
      "name": "python3",
      "display_name": "Python 3"
    },
    "language_info": {
      "name": "python"
    }
  },
  "cells": [
    {
      "cell_type": "markdown",
      "metadata": {
        "id": "view-in-github",
        "colab_type": "text"
      },
      "source": [
        "<a href=\"https://colab.research.google.com/github/dxda6216/q10/blob/main/circadian_period_q10.ipynb\" target=\"_parent\"><img src=\"https://colab.research.google.com/assets/colab-badge.svg\" alt=\"Open In Colab\"/></a>"
      ]
    },
    {
      "cell_type": "markdown",
      "source": [
        "# Circadian period Q<sub>10</sub> calculator\n",
        "\n",
        "For usage, please take a look at:\n",
        "[https://github.com/dxda6216/q10](https://github.com/dxda6216/q10)\n"
      ],
      "metadata": {
        "id": "5DWMWfNrVHi-"
      }
    },
    {
      "cell_type": "code",
      "source": [
        "### This is a simple script to calculate Q10 values for circadian period\n",
        "### length by using SciPy Optimize non-linear least squares fit on Colab.\n",
        "### Copyright (c) 2022 by dxda6216 (dxda6216 AT gmail DOT com)\n",
        "###\n",
        "#@title Q10 calculator\n",
        "import numpy as np\n",
        "from scipy.optimize import curve_fit\n",
        "from matplotlib import pyplot as plt\n",
        "\n",
        "# Data description (plot title)\n",
        "Data_description = \"SCN slices from XYZ gene knockout mice (NOT real data)\" #@param {type:\"string\"}\n",
        "\n",
        "# Temperature data\n",
        "Temperatures = 30.2, 30.2, 30.2, 32.5, 32.5, 32.5, 34.5, 34.5, 34.5, 37.0, 37.0, 37.0, 39.1, 39.1, 39.1, 40.8, 40.8, 40.8 #@param {type:\"raw\"}\n",
        "x = np.array(Temperatures) \n",
        "\n",
        "# Period data\n",
        "Periods =  34.4, 33.1, 32.9, 30.8, 30.1, 29.9, 27.3, 27.1, 27.7, 24.8, 24.3, 24.1, 21.3, 20.8, 20.1, 19.7, 18.5, 18.7 #@param {type:\"raw\"}\n",
        "y = np.array(Periods)\n",
        "\n",
        "# Printing the data\n",
        "print('Temperature = ', x)\n",
        "print('Period = ', y, '\\n')\n",
        "\n",
        "# Figure Settings ON of OFF\n",
        "Set_graphical_parameters_of_figure = \"No (Graph axes, tick marks, etc will automatically be adjusted)\" #@param [\"No (Graph axes, tick marks, etc will automatically be adjusted)\", \"Yes (Set the parameters)\"]\n",
        "\n",
        "# Figure graphical_parameter settings\n",
        "# psx[0] : figure size - width\n",
        "# psx[1] : figure size - height\n",
        "# psx[2] : X-axis scale - min\n",
        "# psx[3] : X-axis scale - max\n",
        "# psx[4] : X-axis ticks - starting\n",
        "# psx[5] : X-axis ticks - ending\n",
        "# psx[6] : X-axis ticks - interval\n",
        "# psx[7] : Y-axis scale - min\n",
        "# psx[8] : Y-axis scale - max\n",
        "# psx[9] : Y-axis ticks - starting\n",
        "# psx[10] : Y-axis ticks - ending\n",
        "# psx[11] : Y-axis ticks - interval\n",
        "# psx[12] : Fitted curve - starting\n",
        "# psx[13] : Fitted curve - ending\n",
        "Figure_graphical_parameters =  8, 6, 27, 45, 28, 45, 2, 14, 45, 14, 45, 2, 28, 43 #@param {type:\"raw\"}\n",
        "psx = np.array(Figure_graphical_parameters)\n",
        "\n",
        "# Displaying Tab-delimited data Yes or No\n",
        "Display_tab_delimited_data = \"No\" #@param [\"No\", \"Yes\"]\n",
        "\n",
        "# Defining an equation for curve fitting\n",
        "# fitting parameters:\n",
        "#     tau37 : period at 37 degree Celsius\n",
        "#     q10 : temperature coefficient (Q10)\n",
        "def func(x, tau37, q10):\n",
        "\treturn tau37 / ( q10 ** ( ( x - 37 ) * 0.1 ) )\n",
        "\n",
        "# Initial values for the fitting parameters\n",
        "p0 = np.array([24.000, 1.000])\n",
        "\n",
        "# Fitting the data to the defined equation\n",
        "popt, pcov = curve_fit(func, x, y, p0)\n",
        "\n",
        "# Printing the results\n",
        "print(u'Tau37 (estimated period length at 37\\u00B0C) =', '{:.3f}'.format(popt[0]), u'\\u00B1', '{:.3f}'.format(pcov[0,0]**0.5))\n",
        "print(u'Q10 (temperature coefficient) =', '{:.3f}'.format(popt[1]), u'\\u00B1', '{:.3f}'.format(pcov[1,1]**0.5), '\\n')\n",
        "\n",
        "# Plotting data and fitted curve\n",
        "if Set_graphical_parameters_of_figure == \"Yes (Set the parameters)\":\n",
        "\tfig = plt.figure(figsize = (psx[0],psx[1]))\n",
        "\tfcx = np.linspace(psx[12], psx[13], 200)\n",
        "\tif psx[4] < psx[2]:\n",
        "\t\tpsx[4] = psx[2]\n",
        "\tif psx[5] >= psx[3]:\n",
        "\t\tpsx[5] = psx[3] + 1\n",
        "\tif psx[9] < psx[7]:\n",
        "\t\tpsx[9] = psx[7]\n",
        "\tif psx[10] >= psx[8]:\n",
        "\t\tpsx[10] = psx[8] + 1\n",
        "\tplt.xlim(psx[2], psx[3])\n",
        "\tplt.ylim(psx[7], psx[8])\n",
        "\tplt.xticks(np.arange(psx[4], psx[5], psx[6]))\n",
        "\tplt.yticks(np.arange(psx[9], psx[10], psx[11]))\n",
        "else:\n",
        "\tfig = plt.figure(figsize = (8,6))\n",
        "\tfcxmin = int( min(x) - ( max(x) - min(x) ) * 0.250 )\n",
        "\tfcxmax = int( max(x) + ( max(x) - min(x) ) * 0.250 ) + 1\n",
        "\tfcx = np.linspace(fcxmin, fcxmax, 200)\n",
        "\t\n",
        "plt.plot(x, y, 'o', color ='red', label ='data')\n",
        "fcy = func(fcx, popt[0], popt[1])\t\n",
        "plt.plot(fcx, fcy, '--', color='blue', label ='fit  tau37=%5.3f, Q10=%5.3f' % tuple(popt))\n",
        "plt.title(Data_description)\n",
        "plt.xlabel(u'Temperature (\\u00B0C)')\n",
        "plt.ylabel('Period (hours)')\n",
        "\n",
        "if Display_tab_delimited_data == \"Yes\":\n",
        "\tprint(u'Dataset')\n",
        "\tprint (u'Temp (\\u00B0C)\\tPeriod (hours)')\n",
        "\tycount = 0\n",
        "\tfor xseq in x:\t\n",
        "\t\tprint(str(xseq)+'\\t'+str(y[ycount]))\n",
        "\t\tycount += 1\n",
        "\tprint(u'\\nFitted Curve')\n",
        "\tprint (u'Temp (\\u00B0C)\\tPeriod (hours)')\n",
        "\tfcycount = 0\n",
        "\tfor fcxseq in fcx:\t\n",
        "\t\tprint('{:.3f}'.format(fcxseq)+'\\t'+'{:.3f}'.format(fcy[fcycount]))\n",
        "\t\tfcycount += 1\n",
        "\tprint(u'\\n')\n",
        "\n",
        "plt.legend()\n",
        "plt.show()\n",
        "\n",
        "### End of script"
      ],
      "metadata": {
        "id": "NI2hnwFuVc1z",
        "outputId": "a92396c5-a96f-4719-8177-670ae5aab81e",
        "colab": {
          "base_uri": "https://localhost:8080/",
          "height": 543
        }
      },
      "execution_count": null,
      "outputs": [
        {
          "output_type": "stream",
          "name": "stdout",
          "text": [
            "Temperature =  [30.2 30.2 30.2 32.5 32.5 32.5 34.5 34.5 34.5 37.  37.  37.  39.1 39.1\n",
            " 39.1 40.8 40.8 40.8]\n",
            "Period =  [34.4 33.1 32.9 30.8 30.1 29.9 27.3 27.1 27.7 24.8 24.3 24.1 21.3 20.8\n",
            " 20.1 19.7 18.5 18.7] \n",
            "\n",
            "Tau37 (estimated period length at 37°C) = 23.682 ± 0.184\n",
            "Q10 (temperature coefficient) = 1.696 ± 0.029 \n",
            "\n"
          ]
        },
        {
          "output_type": "display_data",
          "data": {
            "text/plain": [
              "<Figure size 576x432 with 1 Axes>"
            ],
            "image/png": "[encoded data removed]"
          },
          "metadata": {
            "needs_background": "light"
          }
        }
      ]
    }
  ]
}