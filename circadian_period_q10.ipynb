{
  "nbformat": 4,
  "nbformat_minor": 0,
  "metadata": {
    "colab": {
      "name": "circadian_period_q10.ipynb",
      "provenance": [],
      "collapsed_sections": [],
      "authorship_tag": "ABX9TyO6J2M1bWHwMt8yVt2boj2v",
      "include_colab_link": true
    },
    "kernelspec": {
      "name": "python3",
      "display_name": "Python 3"
    },
    "language_info": {
      "name": "python"
    }
  },
  "cells": [
    {
      "cell_type": "markdown",
      "metadata": {
        "id": "view-in-github",
        "colab_type": "text"
      },
      "source": [
        "<a href=\"https://colab.research.google.com/github/dxda6216/q10/blob/main/circadian_period_q10.ipynb\" target=\"_parent\"><img src=\"https://colab.research.google.com/assets/colab-badge.svg\" alt=\"Open In Colab\"/></a>"
      ]
    },
    {
      "cell_type": "markdown",
      "source": [
        "# Q<sub>10</sub> calculation\n",
        "<pre>\n",
        "<b>Example dataset</b>\n",
        "<u>Temp (˚C)</u>   <u>Period (hr)</u>\n",
        "  32.0        28.5\n",
        "  37.0        24.2\n",
        "  42.0        20.8</pre>\n",
        "\n",
        "<pre><b>Enter the data into the \"Temperatures\"\n",
        "and \"Periods\" forms as follows:</b>\n",
        "Temperatures: <u>32.0, 37.0, 42.0         </u>\n",
        "Periods: <u>28.5, 24.2, 20.8              </u></pre>"
      ],
      "metadata": {
        "id": "5DWMWfNrVHi-"
      }
    },
    {
      "cell_type": "code",
      "source": [
        "### This is a simple script to calculate Q10 values for circadian period\n",
        "### length by using SciPy Optimize non-linear least squares fit on Colab.\n",
        "###\n",
        "#@title Q10\n",
        "import numpy as np\n",
        "from scipy.optimize import curve_fit\n",
        "from matplotlib import pyplot as plt\n",
        "\n",
        "# Data description (plot title)\n",
        "Data_description = \"SCN slice with 10 nM compound VUXC046197 (NOT real data)\" #@param {type:\"string\"}\n",
        "\n",
        "# Temperature data\n",
        "Temperatures = 30.2, 32.6, 35.4, 37.1, 38.9, 40.0, 41.5 #@param {type:\"raw\"}\n",
        "x = np.array(Temperatures) \n",
        "\n",
        "# Period data\n",
        "Periods =  34.1, 30.8, 26.9, 24.2, 21.9, 19.2, 17.7 #@param {type:\"raw\"}\n",
        "y = np.array(Periods)\n",
        "\n",
        "# Printing the data\n",
        "print('Temperature = ', x)\n",
        "print('Period = ', y, '\\n')\n",
        "\n",
        "# Set the starting and ending points of fitted curve.\n",
        "# This values are for plotting only and don't affect the Q10 estimation. \n",
        "fit_line_x_min = 28 #@param {type:\"slider\", min:10, max:50, step:1}\n",
        "fit_line_x_max = 45 #@param {type:\"slider\", min:10, max:50, step:1}\n",
        "\n",
        "# Defining an equation for curve fitting\n",
        "# fitting parameters:\n",
        "#     tau37 : period at 30 degree Celsius\n",
        "#     q10 : temperature coefficient (Q10)\n",
        "def func(x, tau37, q10):\n",
        "\treturn tau37 / ( q10 ** ( ( x - 37 ) * 0.1 ) )\n",
        "\n",
        "# Initial values for the fitting parameters\n",
        "p0 = np.array([24, 1])\n",
        "\n",
        "# Fitting the data to the defined equation\n",
        "popt, pcov = curve_fit(func, x, y, p0)\n",
        "\n",
        "# Printing the results\n",
        "print(u'Tau37 (estimated period length at 37\\u00B0C) =', '{:.3f}'.format(popt[0]), u'\\u00B1', '{:.3f}'.format(pcov[0,0]**0.5))\n",
        "print(u'Q10 (temperature coefficient) =', '{:.3f}'.format(popt[1]), u'\\u00B1', '{:.3f}'.format(pcov[1,1]**0.5), '\\n')\n",
        "\n",
        "# Plotting data and fitted curve\n",
        "\n",
        "fig = plt.figure(figsize = (8,6))\n",
        "fcx = np.linspace(fit_line_x_min, fit_line_x_max, 200)\n",
        "fcy = func(fcx, popt[0], popt[1])\n",
        "plt.plot(x, y, 'o', color ='red', label ='data')\n",
        "plt.plot(fcx, fcy, '--', color='blue', label ='fit tau37=%5.3f, Q10=%5.3f' % tuple(popt))\n",
        "\n",
        "### To adjust scales and ticks of X-axis & Y-axis, \n",
        "### change values in parentheses and remove #.\n",
        "# plt.xlim(25, 45)\n",
        "# plt.ylim(20, 30)\n",
        "# plt.xticks(np.arange(25, 46, 2))\n",
        "# plt.yticks(np.arange(20, 31, 1))\n",
        "\n",
        "plt.title(Data_description)\n",
        "plt.xlabel(u'Temperature (\\u00B0C)')\n",
        "plt.ylabel('Period (hours)')\n",
        "plt.legend()\n",
        "plt.show()\n",
        "\n",
        "### End of script\n"
      ],
      "metadata": {
        "cellView": "form",
        "id": "NI2hnwFuVc1z"
      },
      "execution_count": null,
      "outputs": []
    }
  ]
}